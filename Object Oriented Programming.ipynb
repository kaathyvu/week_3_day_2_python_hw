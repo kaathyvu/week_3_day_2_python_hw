{
 "cells": [
  {
   "cell_type": "markdown",
   "metadata": {},
   "source": [
    "# Object-Oriented-Programming (OOP)"
   ]
  },
  {
   "cell_type": "markdown",
   "metadata": {},
   "source": [
    "## Tasks Today:\n",
    "\n",
    "   \n",
    "\n",
    "1) <b>Creating a Class (Initializing/Declaring)</b> <br>\n",
    "2) <b>Using a Class (Instantiating)</b> <br>\n",
    " &nbsp;&nbsp;&nbsp;&nbsp; a) Creating One Instance <br>\n",
    " &nbsp;&nbsp;&nbsp;&nbsp; b) Creating Multiple Instances <br>\n",
    " &nbsp;&nbsp;&nbsp;&nbsp; c) In-Class Exercise #1 - Create a Class 'Car' and instantiate three different makes of cars <br>\n",
    "3) <b>The \\__init\\__() Method</b> <br>\n",
    " &nbsp;&nbsp;&nbsp;&nbsp; a) The 'self' Attribute <br>\n",
    "4) <b>Class Attributes</b> <br>\n",
    " &nbsp;&nbsp;&nbsp;&nbsp; a) Initializing Attributes <br>\n",
    " &nbsp;&nbsp;&nbsp;&nbsp; b) Setting an Attribute Outside of the \\__init\\__() Method <br>\n",
    " &nbsp;&nbsp;&nbsp;&nbsp; c) Setting Defaults for Attributes <br>\n",
    " &nbsp;&nbsp;&nbsp;&nbsp; d) Accessing Class Attributes <br>\n",
    " &nbsp;&nbsp;&nbsp;&nbsp; e) Changing Class Attributes <br>\n",
    " &nbsp;&nbsp;&nbsp;&nbsp; f) In-Class Exercise #2 - Add a color and wheels attribute to your 'Car' class <br>\n",
    "5) <b>Class Methods</b> <br>\n",
    " &nbsp;&nbsp;&nbsp;&nbsp; a) Creating <br>\n",
    " &nbsp;&nbsp;&nbsp;&nbsp; b) Calling <br>\n",
    " &nbsp;&nbsp;&nbsp;&nbsp; c) Modifying an Attribute's Value Through a Method <br>\n",
    " &nbsp;&nbsp;&nbsp;&nbsp; d) Incrementing an Attribute's Value Through a Method <br>\n",
    " &nbsp;&nbsp;&nbsp;&nbsp; e) In-Class Exercise #3 - Add a method that prints the cars color and wheel number, then call them <br>\n",
    "6) <b>Inheritance</b> <br>\n",
    " &nbsp;&nbsp;&nbsp;&nbsp; a) Syntax for Inheriting from a Parent Class <br>\n",
    " &nbsp;&nbsp;&nbsp;&nbsp; b) The \\__init\\__() Method for a Child Class (super()) <br>\n",
    " &nbsp;&nbsp;&nbsp;&nbsp; c) Defining Attributes and Methods for the Child Class <br>\n",
    " &nbsp;&nbsp;&nbsp;&nbsp; d) Method Overriding <br>\n",
    " &nbsp;&nbsp;&nbsp;&nbsp; e) In-Class Exercise #4 - Create a class 'Ford' that inherits from 'Car' class and initialize it as a Blue Ford Explorer with 4 wheels using the super() method <br>\n",
    "7) <b>Classes as Attributes</b> <br>\n",
    "8) <b>Exercises</b> <br>\n",
    " &nbsp;&nbsp;&nbsp;&nbsp; a) Exercise #1 - Turn the shopping cart program from last week into an object-oriented program <br>"
   ]
  },
  {
   "cell_type": "markdown",
   "metadata": {},
   "source": [
    "## Creating a Class (Initializing/Declaring)\n",
    "<p>When creating a class, function, or even a variable you are initializing that object. Initializing and Declaring occur at the same time in Python, whereas in lower level languages you have to declare an object before initializing it. This is the first step in the process of using a class.</p>"
   ]
  },
  {
   "cell_type": "code",
   "execution_count": 4,
   "metadata": {},
   "outputs": [],
   "source": [
    "# Initialize means to set value to something\n",
    "# Class attributes are the 'wheel' and 'color' which each instance has\n",
    "# -- think of it as blueprints that each instance has, but color, style, etc may be different\n",
    "# Each object you create of that type of class is an instance\n",
    "\n",
    "class Car():\n",
    "    wheels = 4\n",
    "    color = 'blue'"
   ]
  },
  {
   "cell_type": "markdown",
   "metadata": {},
   "source": [
    "## Using a Class (Instantiating)\n",
    "<p>The process of creating a class is called <i>Instantiating</i>. Each time you create a variable of that type of class, it is referred to as an <i>Instance</i> of that class. This is the second step in the process of using a class.</p>"
   ]
  },
  {
   "cell_type": "markdown",
   "metadata": {},
   "source": [
    "##### Creating One Instance"
   ]
  },
  {
   "cell_type": "code",
   "execution_count": null,
   "metadata": {},
   "outputs": [],
   "source": [
    "# to create an instance, make a variable and set it equal to the class\n",
    "\n",
    "ford = Car()\n",
    "mazda = Car()\n",
    "chevy = Car()"
   ]
  },
  {
   "cell_type": "markdown",
   "metadata": {},
   "source": [
    "##### Creating Multiple Instances"
   ]
  },
  {
   "cell_type": "code",
   "execution_count": null,
   "metadata": {},
   "outputs": [],
   "source": []
  },
  {
   "cell_type": "markdown",
   "metadata": {},
   "source": [
    "##### In-Class Exercise #1 - Create a Class 'Car' and Instantiate three different makes of cars"
   ]
  },
  {
   "cell_type": "code",
   "execution_count": 17,
   "metadata": {},
   "outputs": [
    {
     "name": "stdout",
     "output_type": "stream",
     "text": [
      "white 2011 Honda Civic\n",
      "silver 2020 Jeep Cherokee\n",
      "black 2017 Toyota RAV4\n"
     ]
    }
   ],
   "source": [
    "class Car():\n",
    "    ENGINE = \"4.7L\" # this is a constant, which generally doesn't change (we can if we want to, but we usually don't)\n",
    "    def __init__(self, make, model, year, color):\n",
    "        self.make = make\n",
    "        self.model = model\n",
    "        self.year = year\n",
    "        self.color = color\n",
    "\n",
    "car_1 = Car(\"Honda\", \"Civic\", 2011, \"white\")\n",
    "car_2 = Car(\"Jeep\", \"Cherokee\", 2020, \"silver\" )\n",
    "car_3 = Car(\"Toyota\", \"RAV4\", 2017, \"black\")\n",
    "\n",
    "print(car_1.color, car_1.year, car_1.make, car_1.model)\n",
    "print(car_2.color, car_2.year, car_2.make, car_2.model)\n",
    "print(car_3.color, car_3.year, car_3.make, car_3.model)"
   ]
  },
  {
   "cell_type": "markdown",
   "metadata": {},
   "source": [
    "## The \\__init\\__() Method <br>\n",
    "<p>This method is used in almost every created class, and called only once upon the creation of the class instance. This method will initialize all variables needed for the object.</p>"
   ]
  },
  {
   "cell_type": "code",
   "execution_count": 5,
   "metadata": {},
   "outputs": [
    {
     "name": "stdout",
     "output_type": "stream",
     "text": [
      "4\n",
      "blue\n",
      "2\n",
      "red\n"
     ]
    }
   ],
   "source": [
    "# __init__() method is a special method or 'dunder' method meaning double underscore\n",
    "# __init__() initializes all of our attributes and variables\n",
    "# self refers to the instance being created meaning it holds the place of the instanec\n",
    "# self ALWAYS needs to be the first parameter\n",
    "\n",
    "class Car():\n",
    "    def __init__(self, wheels, color, doors):\n",
    "        self.wheels = wheels # this comes from the above parameters\n",
    "        self.color = color # it can be any var (like in functions), but we usually match it to the attribute on left\n",
    "        self.doors = doors\n",
    "\n",
    "# ford = Car() -- if you don't put anything in the (), you'll get an error because you initialized attributes in init\n",
    "# so you need to assign something to those variables\n",
    "\n",
    "ford = Car(4, 'blue', 2)\n",
    "print(ford.wheels)\n",
    "print(ford.color)\n",
    "print(ford.doors)\n",
    "\n",
    "mazda = Car (4, \"red\", 6)\n",
    "print(mazda.color)"
   ]
  },
  {
   "cell_type": "markdown",
   "metadata": {},
   "source": [
    "##### The 'self' Attribute <br>\n",
    "<p>This attribute is required to keep track of specific instance's attributes. Without the self attribute, the program would not know how to reference or keep track of an instance's attributes.</p>"
   ]
  },
  {
   "cell_type": "code",
   "execution_count": 18,
   "metadata": {},
   "outputs": [
    {
     "name": "stdout",
     "output_type": "stream",
     "text": [
      "{'name': 'Charmander', 'type_': 'fire'}\n"
     ]
    }
   ],
   "source": [
    "class Pokemon():\n",
    "    def __init__(self, name, type_):\n",
    "        self.name = name\n",
    "        self.type_ = type_\n",
    "\n",
    "charmander = Pokemon(\"Charmander\", \"fire\")\n",
    "print(charmander.__dict__)"
   ]
  },
  {
   "cell_type": "markdown",
   "metadata": {},
   "source": [
    "## Class Attributes <br>\n",
    "<p>While variables are inside of a class, they are referred to as attributes and not variables. When someone says 'attribute' you know they're speaking about a class. Attributes can be initialized through the init method, or outside of it.</p>"
   ]
  },
  {
   "cell_type": "markdown",
   "metadata": {},
   "source": [
    "##### Initializing Attributes"
   ]
  },
  {
   "cell_type": "code",
   "execution_count": null,
   "metadata": {},
   "outputs": [],
   "source": [
    "# see above"
   ]
  },
  {
   "cell_type": "markdown",
   "metadata": {},
   "source": [
    "##### Accessing Class Attributes"
   ]
  },
  {
   "cell_type": "code",
   "execution_count": null,
   "metadata": {
    "scrolled": true
   },
   "outputs": [],
   "source": [
    "# See Above"
   ]
  },
  {
   "cell_type": "markdown",
   "metadata": {},
   "source": [
    "##### Setting Defaults for Attributes"
   ]
  },
  {
   "cell_type": "code",
   "execution_count": 30,
   "metadata": {},
   "outputs": [
    {
     "name": "stdout",
     "output_type": "stream",
     "text": [
      "4\n",
      "Blue\n",
      "4\n",
      "red\n"
     ]
    }
   ],
   "source": [
    "# Can set default attributes two ways:\n",
    "# Differs from constant attributes because constants are unlikely to change\n",
    "# Default attributes can change, can be a placeholder (ie =\"\")\n",
    "\n",
    "#1\n",
    "class Car():\n",
    "    def __init__(self, wheels):\n",
    "        self.wheels = wheels\n",
    "        self.color = \"Blue\" # can create a default attribute inside __init__\n",
    "\n",
    "honda = Car(4)\n",
    "print(honda.wheels)\n",
    "print(honda.color)\n",
    "\n",
    "#2\n",
    "class Car2():\n",
    "    def __init__ (self, wheels, color=\"red\"):\n",
    "        self.wheels = wheels\n",
    "        self.color = color\n",
    "        \n",
    "other_honda = Car2(4)\n",
    "print(other_honda.wheels)\n",
    "print(other_honda.color)"
   ]
  },
  {
   "cell_type": "markdown",
   "metadata": {},
   "source": [
    "##### Changing Class Attributes <br>\n",
    "<p>Keep in mind there are global class attributes and then there are attributes only available to each class instance which won't effect other classes.</p>"
   ]
  },
  {
   "cell_type": "code",
   "execution_count": 31,
   "metadata": {},
   "outputs": [
    {
     "name": "stdout",
     "output_type": "stream",
     "text": [
      "{'wheels': 4, 'color': 'Blue'}\n",
      "{'wheels': 4, 'color': 'white'}\n"
     ]
    }
   ],
   "source": [
    "# Global class attribute is like the constant attribute\n",
    "\n",
    "# Changing the default attribute in an instance\n",
    "print(honda.__dict__)\n",
    "honda.color = \"white\"\n",
    "print(honda.__dict__)"
   ]
  },
  {
   "cell_type": "code",
   "execution_count": null,
   "metadata": {},
   "outputs": [],
   "source": []
  },
  {
   "cell_type": "markdown",
   "metadata": {},
   "source": [
    "##### In-Class Exercise #2 - Add a doors and seats attribute to your 'Car' class then print out two different instances with different doors and seats"
   ]
  },
  {
   "cell_type": "code",
   "execution_count": 39,
   "metadata": {},
   "outputs": [
    {
     "name": "stdout",
     "output_type": "stream",
     "text": [
      "I have a white 2011 Honda Civic with 2 doors and 5 seats\n",
      "I have a silver 2021 Chevy Surburban with 4 doors and 7 seats\n"
     ]
    }
   ],
   "source": [
    "class Car():\n",
    "    ENGINE = \"4.7L\"\n",
    "    def __init__(self, make, model, year, color, seats=5, doors=4):\n",
    "        self.make = make\n",
    "        self.model = model\n",
    "        self.year = year\n",
    "        self.color = color\n",
    "        self.doors = doors\n",
    "        self.seats = seats\n",
    "\n",
    "car_1 = Car(\"Honda\", \"Civic\", 2011, \"white\")\n",
    "car_1.doors = 2\n",
    "print(f\"I have a {car_1.color} {car_1.year} {car_1.make} {car_1.model} \\\n",
    "with {car_1.doors} doors and {car_1.seats} seats\")\n",
    "\n",
    "\n",
    "car_2 = Car(\"Chevy\", \"Surburban\", 2021, \"silver\")\n",
    "car_2.seats = 7\n",
    "print(f\"I have a {car_2.color} {car_2.year} {car_2.make} {car_2.model} \\\n",
    "with {car_2.doors} doors and {car_2.seats} seats\")"
   ]
  },
  {
   "cell_type": "markdown",
   "metadata": {},
   "source": [
    "## Class Methods <br>\n",
    "<p>While inside of a class, functions are referred to as 'methods'. If you hear someone mention methods, they're speaking about classes. Methods are essentially functions, but only callable on the instances of a class.</p>"
   ]
  },
  {
   "cell_type": "markdown",
   "metadata": {},
   "source": [
    "##### Creating"
   ]
  },
  {
   "cell_type": "code",
   "execution_count": 2,
   "metadata": {},
   "outputs": [],
   "source": [
    "class Bus():\n",
    "    \"\"\"\n",
    "    The bus will have doors, seats, seats available, color, and a bus driver\n",
    "    \n",
    "    Attributes for the class:\n",
    "    - doors: int\n",
    "    - seats: int\n",
    "    - seats_avail: int\n",
    "    - color: str\n",
    "    - bus_driver: str\n",
    "    \n",
    "    \"\"\"\n",
    "    def __init__ (self, doors, seats, seats_avail, color, bus_driver):\n",
    "        self.doors = doors\n",
    "        self.seats = seats\n",
    "        self.seats_avail = seats_avail\n",
    "        self.color = color\n",
    "        self.bus_driver = bus_driver\n",
    "        \n",
    "    # Decrement the number of seats available    \n",
    "    def load_passengers(self):\n",
    "        if self.seats_avail <= 0:\n",
    "            print(\"This bus is full! You can't take anymore passengers!\")\n",
    "            if self.seats_avail < 0:\n",
    "                print(f\"You left {abs(self.seats_avail)} by the road!\")\n",
    "                self.seats_avail = 0\n",
    "        else:\n",
    "            passengers = int(input(\"How many passengers are getting on? \"))\n",
    "            self.seats_avail -= passengers\n",
    "            print(f\"{passengers} passengers have boarded. There are {self.seats_avail} seats left on the bus\")\n",
    "    \n",
    "    # Increment the number of seats available\n",
    "    def unload_passengers(self):\n",
    "        if self.seats_avail >= self.seats:\n",
    "            print(\"There is no one left to get off the bus!\")\n",
    "        else:\n",
    "            unload = int(input(\"How many passengers are getting off the bus? \"))\n",
    "            self.seats_avail += unload\n",
    "            if self.seats_avail >= self.seats:\n",
    "                self.seats_avail = self.seats\n",
    "            print(f\"{unload} passengers have left the bus. There are {self.seats_avail} seats left\")\n",
    "\n",
    "    # Change bus_driver attribute\n",
    "    def change_driver(self):\n",
    "        change = input(\"Who is replacing you? \")\n",
    "        self.bus_driver = change\n",
    "        print(f\"The new bus driver is {self.bus_driver}. Be sure to thank them!\")\n",
    "    \n",
    "    # Display seat info\n",
    "    def check_seats(self):\n",
    "        print(self.seats_avail)\n",
    "    \n",
    "    # Display color info about bus\n",
    "    def admire_bus(self):\n",
    "        print(f\"Would ya just look at that beautiful {self.color} bus!\")\n",
    "\n",
    "kat_bus = Bus(2, 90, 45, \"yellow\", \"Kathy\")"
   ]
  },
  {
   "cell_type": "markdown",
   "metadata": {},
   "source": [
    "##### Calling"
   ]
  },
  {
   "cell_type": "code",
   "execution_count": 3,
   "metadata": {},
   "outputs": [
    {
     "name": "stdout",
     "output_type": "stream",
     "text": [
      "What would you like to do? (Load/Unload/Change Driver/Check Seats/Admire/Quit) admire\n",
      "Would ya just look at that beautiful yellow bus!\n",
      "What would you like to do? (Load/Unload/Change Driver/Check Seats/Admire/Quit) quit\n",
      "Oh no! There are still passengers to be picked up! :(\n"
     ]
    }
   ],
   "source": [
    "def run():\n",
    "    while True:\n",
    "        response = input(\"What would you like to do? (Load/Unload/Change Driver/Check Seats/Admire/Quit) \")\n",
    "        if response.lower() == 'quit':\n",
    "            print(\"Oh no! There are still passengers to be picked up! :(\")\n",
    "            break\n",
    "        elif response.lower() == 'load':\n",
    "            kat_bus.load_passengers()\n",
    "        elif response.lower() == 'unload':\n",
    "            kat_bus.unload_passengers()\n",
    "        elif response.lower() == 'change driver':\n",
    "            kat_bus.change_driver()\n",
    "        elif response.lower() == 'check seats':\n",
    "            kat_bus.check_seats()\n",
    "        elif response.lower() == 'admire':\n",
    "            kat_bus.admire_bus()\n",
    "        else:\n",
    "            print(\"That is not a valid response. Please pick from the list!\")\n",
    "            \n",
    "run()"
   ]
  },
  {
   "cell_type": "markdown",
   "metadata": {},
   "source": [
    "##### Modifying an Attribute's Value Through a Method"
   ]
  },
  {
   "cell_type": "code",
   "execution_count": null,
   "metadata": {},
   "outputs": [],
   "source": [
    "# see above"
   ]
  },
  {
   "cell_type": "markdown",
   "metadata": {},
   "source": [
    "##### Incrementing an Attribute's Value Through a Method"
   ]
  },
  {
   "cell_type": "code",
   "execution_count": null,
   "metadata": {},
   "outputs": [],
   "source": [
    "# see above"
   ]
  },
  {
   "cell_type": "markdown",
   "metadata": {},
   "source": [
    "##### In-Class Exercise #3 - Add a method that takes in three parameters of year, doors and seats and prints out a formatted print statement with make, model, year, seats, and doors"
   ]
  },
  {
   "cell_type": "raw",
   "metadata": {},
   "source": []
  },
  {
   "cell_type": "code",
   "execution_count": 82,
   "metadata": {},
   "outputs": [
    {
     "name": "stdout",
     "output_type": "stream",
     "text": [
      "This car is a white 2011 Honda Civic. It has 2 doors and 5 seats.\n",
      "This car is now a blue car.\n",
      "This car is a blue 2011 Honda Civic. It has 2 doors and 5 seats.\n",
      "Honda\n",
      "blue\n"
     ]
    }
   ],
   "source": [
    "# Create class with 2 parameters inside of the __init__ which are make and model\n",
    "\n",
    "# Create two methods for your class: \n",
    "# - a method that alters an attribute for your class\n",
    "# - display method that prints information about the vehicle\n",
    "\n",
    "# Reminder in order to call class methods -- instance.method()\n",
    "\n",
    "# Output: This car is from 2019 and is a Ford Expolorer and has 4 doors and 5 seats\n",
    "\n",
    "class Car():\n",
    "    ENGINE = \"4.7L\"\n",
    "    def __init__(self, make, model, year, color, seats=5, doors=4):\n",
    "        self.make = make\n",
    "        self.model = model\n",
    "        self.year = year\n",
    "        self.color = color\n",
    "        self.doors = doors\n",
    "        self.seats = seats\n",
    "        \n",
    "    def change_color(self, new_color):\n",
    "        # asking the user for input on the new car color\n",
    "        # new_color = input(\"What color are we changing the car to? \")\n",
    "        # self.color = new_color\n",
    "        # print(f\"This car is now a {new_color} car.\")\n",
    "        self.color = new_color\n",
    "        print(f\"This car is now a {new_color} car.\")\n",
    "    \n",
    "    def display_car_info(self):\n",
    "        print(f\"This car is a {self.color} {self.year} {self.make} {self.model}. It has {self.doors} doors and {self.seats} seats.\")\n",
    "\n",
    "car_1 = Car(\"Honda\", \"Civic\", 2011, \"white\")\n",
    "car_1.doors = 2\n",
    "\n",
    "car_1.display_car_info()\n",
    "car_1.change_color(\"blue\")\n",
    "car_1.display_car_info()\n",
    "print(car_1.make)\n",
    "print(car_1.color)\n",
    "\n",
    "# Make sure when making attributes to put it in the __init__ because of scope!\n",
    "# If you make an attribute within a class method, it won't be made until the class method is called upon"
   ]
  },
  {
   "cell_type": "markdown",
   "metadata": {},
   "source": [
    "## Inheritance <br>\n",
    "<p>You can create a child-parent relationship between two classes by using inheritance. What this allows you to do is have overriding methods, but also inherit traits from the parent class. Think of it as an actual parent and child, the child will inherit the parent's genes, as will the classes in OOP</p>"
   ]
  },
  {
   "cell_type": "markdown",
   "metadata": {},
   "source": [
    "##### Syntax for Inheriting from a Parent Class"
   ]
  },
  {
   "cell_type": "code",
   "execution_count": 98,
   "metadata": {},
   "outputs": [],
   "source": [
    "# Inheritance only works top-down (the child will inherit the parents genes, and child will inherit classes in OOP)\n",
    "\n",
    "# Creation of our parent class\n",
    "class Animal():\n",
    "    ACCELERATION = 9.8\n",
    "    \n",
    "    def __init__ (self, name, species, legs=4):\n",
    "        self.name = name\n",
    "        self.species = species\n",
    "        self.legs = legs\n",
    "    \n",
    "    # Generic Parent Method\n",
    "    def make_sound(self):\n",
    "        print(\"REEEEEEEEEEEEEE\")\n",
    "        \n",
    "# Creation of our child class - Dog\n",
    "class Dog(Animal): # when a child inherits from a parent, put the parent class inside ()\n",
    "    SPEED = 15\n",
    "    \n",
    "    # Dog class doesn't have an __init__ function because it inherits from Animal class\n",
    "    def print_info(self):\n",
    "        print(f\"{self.name} runs at {self.SPEED} mph and accelerates at {self.ACCELERATION} meters per second^2\")\n",
    "    \n",
    "# Creation of our grandchild class - Mutt\n",
    "class Mutt(Dog):\n",
    "    COLOR = \"beige\"\n",
    "    \n",
    "    # Mutt class accesses the Animal class through the Dog class\n",
    "    def __init__(self, name, species, eye_color, legs=4):\n",
    "        Dog.__init__(self, name, species, legs) # this basically sets these attributes to\n",
    "                                                # the Animal attributes through the Dog class\n",
    "        self.eye_color = eye_color\n",
    "    \n",
    "    # Override the make_sound method from the Animal class\n",
    "    def make_sound(self):\n",
    "        print(\"rooooooooooooo\")"
   ]
  },
  {
   "cell_type": "code",
   "execution_count": 94,
   "metadata": {},
   "outputs": [
    {
     "name": "stdout",
     "output_type": "stream",
     "text": [
      "REEEEEEEEEEEEEE\n",
      "REEEEEEEEEEEEEE\n",
      "REEEEEEEEEEEEEE\n",
      "REEEEEEEEEEEEEE\n",
      "9.8\n"
     ]
    }
   ],
   "source": [
    "bear = Animal(\"Otto\", \"Polar Bear\")\n",
    "otter = Animal(\"Bear\", \"River Otter\")\n",
    "liger = Animal(\"Napolean\", \"Striped Liger\")\n",
    "llama = Animal(\"Tina\", \"Fluffy Llama\")\n",
    "\n",
    "bear.make_sound()\n",
    "otter.make_sound()\n",
    "liger.make_sound()\n",
    "llama.make_sound()\n",
    "print(bear.ACCELERATION)"
   ]
  },
  {
   "cell_type": "code",
   "execution_count": 101,
   "metadata": {},
   "outputs": [
    {
     "name": "stdout",
     "output_type": "stream",
     "text": [
      "REEEEEEEEEEEEEE\n",
      "4\n",
      "Greg runs at 15 mph and accelerates at 9.8 meters per second^2\n"
     ]
    }
   ],
   "source": [
    "greg = Dog(\"Greg\", \"Pitbull\")\n",
    "greg.make_sound()\n",
    "print(greg.legs)\n",
    "greg.print_info()\n",
    "\n",
    "# bear.print_info() -- will generate an error because the parent classes do not have access to child attributes\n",
    "# reminder that only child classes have access to parent attributes!"
   ]
  },
  {
   "cell_type": "code",
   "execution_count": 106,
   "metadata": {},
   "outputs": [
    {
     "name": "stdout",
     "output_type": "stream",
     "text": [
      "Eyo runs at 15 mph and accelerates at 9.8 meters per second^2\n",
      "beige\n",
      "Brown\n",
      "Green\n",
      "rooooooooooooo\n"
     ]
    }
   ],
   "source": [
    "eyo = Mutt(\"Eyo\", \"Dog\", \"brown\")\n",
    "henri = Mutt(\"Henrietta\", \"Dog\", \"green\")\n",
    "\n",
    "eyo.print_info()\n",
    "print(henri.COLOR)\n",
    "print(eyo.eye_color)\n",
    "print(henri.eye_color)\n",
    "henri.make_sound()"
   ]
  },
  {
   "cell_type": "markdown",
   "metadata": {},
   "source": [
    "##### The \\__init\\__() Method for a Child Class - super()"
   ]
  },
  {
   "cell_type": "code",
   "execution_count": 108,
   "metadata": {
    "scrolled": true
   },
   "outputs": [
    {
     "name": "stdout",
     "output_type": "stream",
     "text": [
      "Courage\n",
      "Schanuzer\n",
      "Courage runs at 15 mph and accelerates at 9.8 meters per second^2\n"
     ]
    }
   ],
   "source": [
    "# super().__init__ take in all attributes from parent class\n",
    "\n",
    "class Mutt(Dog):\n",
    "\n",
    "    COLOR = \"lots of colors\"\n",
    "    # Accessing the Animal class __init__ with the super().__init__\n",
    "    def __init__(self, name, species, eye_color, legs=4):\n",
    "        super().__init__ (name, species, legs)\n",
    "        self.eye_color = eye_color\n",
    "        # super() will reference the class that the child takes in\n",
    "    \n",
    "    # Override make_sound method\n",
    "    def make_sound(self):\n",
    "        print(\"Wooooooof\")\n",
    "        \n",
    "courage = Mutt(\"Courage\", \"Schanuzer\", \"black\")\n",
    "print(courage.name)\n",
    "print(courage.species)\n",
    "courage.print_info()"
   ]
  },
  {
   "cell_type": "markdown",
   "metadata": {},
   "source": [
    "##### Defining Attributes and Methods for the Child Class"
   ]
  },
  {
   "cell_type": "code",
   "execution_count": null,
   "metadata": {},
   "outputs": [],
   "source": [
    "# See Above"
   ]
  },
  {
   "cell_type": "markdown",
   "metadata": {},
   "source": [
    "##### Method Overriding"
   ]
  },
  {
   "cell_type": "code",
   "execution_count": null,
   "metadata": {},
   "outputs": [],
   "source": [
    "# See Above"
   ]
  },
  {
   "cell_type": "markdown",
   "metadata": {},
   "source": [
    "## Classes as Attributes <br>\n",
    "<p>Classes can also be used as attributes within another class. This is useful in situations where you need to keep variables locally stored, instead of globally stored.</p>"
   ]
  },
  {
   "cell_type": "code",
   "execution_count": 115,
   "metadata": {},
   "outputs": [
    {
     "name": "stdout",
     "output_type": "stream",
     "text": [
      "2022 VW Jetta 20\n",
      "7.8\n"
     ]
    }
   ],
   "source": [
    "class Battery():\n",
    "    VOLTS = 7.8\n",
    "    \n",
    "    def __init__(self, cells):\n",
    "        self.cells = cells\n",
    "\n",
    "class Car():\n",
    "    def __init__(self, year, make, model, battery):\n",
    "        self.year = year\n",
    "        self.make = make\n",
    "        self.model = model\n",
    "        self.battery = battery\n",
    "    \n",
    "    def print_info(self):\n",
    "        print(f\"{self.year} {self.make} {self.model} {self.battery.cells}\")\n",
    "\n",
    "battery = Battery(20)\n",
    "volkswagen = Car(2022, \"VW\", \"Jetta\", battery)\n",
    "volkswagen.print_info()\n",
    "print(volkswagen.battery.VOLTS)"
   ]
  },
  {
   "cell_type": "markdown",
   "metadata": {},
   "source": [
    "# Exercises"
   ]
  },
  {
   "cell_type": "markdown",
   "metadata": {},
   "source": [
    "### Exercise 1 - Turn the shopping cart program from yesterday into an object-oriented program\n",
    "\n",
    "The comments in the cell below are there as a guide for thinking about the problem. However, if you feel a different way is best for you and your own thought process, please do what feels best for you by all means."
   ]
  },
  {
   "cell_type": "code",
   "execution_count": 137,
   "metadata": {},
   "outputs": [
    {
     "name": "stdout",
     "output_type": "stream",
     "text": [
      "\n",
      "Welcome and thank you for shopping with us.\n",
      "What would you like to do? ('Show Cart'/'Add'/'Edit'/'Delete'/'Check Out') check out\n",
      "\n",
      "Please head to checkout to pay for the following items:\n",
      "Thank you again for shopping with us.\n"
     ]
    }
   ],
   "source": [
    "# Create a class called cart that retains items and has methods to add, remove, and show\n",
    "# Use bus as reference for changing attributes and accessing them\n",
    "# Make sure all class methods are taking in self (attribute error usually means you forgot it somewhere)\n",
    "# run() program\n",
    "\n",
    "# Create a class called cart that retains items and has methods to add, remove, and show\n",
    "# Use bus as reference for changing attributes and accessing them\n",
    "# Make sure all class methods are taking in self (attribute error usually means you forgot it somewhere)\n",
    "# run() program\n",
    "from IPython.display import clear_output\n",
    "\n",
    "class Cart():\n",
    "    def __init__(self):\n",
    "        self.shopping_cart = {}\n",
    "        self.qty = \"\"\n",
    "        self.item = \"\"\n",
    "    # Add an item to the shopping cart\n",
    "    def add_item(self):\n",
    "        clear_output()\n",
    "        item = input(\"What item would you like to add? \")\n",
    "        self.qty = int(input(\"How many? \"))\n",
    "        self.shopping_cart[item.title().strip()] = self.qty\n",
    "        clear_output()\n",
    "        \n",
    "    # Edit an item in the shopping cart\n",
    "    def edit_item(self):\n",
    "        while True:\n",
    "            item = input(\"What item would you like to modify? \")\n",
    "            edit_response = input(\"Would you like to 'add' or 'remove'? Enter 'exit' to return to main menu. \")\n",
    "            if edit_response.lower().strip() == \"add\":\n",
    "                clear_output()\n",
    "                edit_qty = int(input(f\"How many more {item} would you like to add? \"))\n",
    "                self.qty = self.shopping_cart[item.title().strip()] + edit_qty\n",
    "                self.shopping_cart[item.title().strip()] = self.qty\n",
    "                print(f\"{edit_qty} {item} was added to your cart. You now have {self.qty} {item}. \")\n",
    "                break\n",
    "            elif edit_response.lower().strip() == \"remove\":\n",
    "                clear_output()\n",
    "                edit_qty = int(input(f\"How many {item} would you like to remove? \"))\n",
    "                self.qty = self.shopping_cart[item.title().strip()] - edit_qty\n",
    "                self.shopping_cart[item.title().strip()] = self.qty\n",
    "                print(f\"{edit_qty} {item} was removed from your cart. You now have {self.qty} {item}. \")\n",
    "                break\n",
    "            elif edit_response.lower().strip() == \"exit\":\n",
    "                clear_output()\n",
    "                break\n",
    "            else:\n",
    "                print(\"Please enter a valid response.\")\n",
    "            \n",
    "    # Delete an item in the shopping cart\n",
    "    def del_item(self):\n",
    "        clear_output()\n",
    "        deleted_item = input(\"What item would you like to delete? \")\n",
    "        del self.shopping_cart[deleted_item.title().strip()]\n",
    "        print(f\"Your {deleted_item} has been removed.\")\n",
    "        \n",
    "    # Show items in shopping cart\n",
    "    def show_cart(self):\n",
    "        clear_output()\n",
    "        print(\"\\nYour shopping cart currently contains:\")\n",
    "        for item, qty in self.shopping_cart.items():\n",
    "            print(f\"\\t{item}: {qty}\")\n",
    "        \n",
    "my_cart = Cart()\n",
    "\n",
    "def run():\n",
    "    while True:\n",
    "        print(\"\\nWelcome and thank you for shopping with us.\")\n",
    "        response = input(\"What would you like to do? ('Show Cart'/'Add'/'Edit'/'Delete'/'Check Out') \")\n",
    "        if response.lower().strip() == \"check out\":\n",
    "            print(\"\\nPlease head to checkout to pay for the following items:\")\n",
    "            for item, qty in my_cart.shopping_cart.items():\n",
    "                print(f\"\\t{item}: {qty}\")\n",
    "            print(\"Thank you again for shopping with us. Have a great day!\")\n",
    "            break\n",
    "        elif response.lower().strip() == \"show cart\":\n",
    "            my_cart.show_cart()\n",
    "        elif response.lower().strip() == \"add\":\n",
    "            my_cart.add_item()\n",
    "        elif response.lower().strip() == \"edit\":\n",
    "            my_cart.edit_item()\n",
    "        elif response.lower().strip() == \"delete\":\n",
    "            my_cart.del_item()\n",
    "        else:\n",
    "            print(\"That is not a valid option. Please try again.\")\n",
    "\n",
    "run()"
   ]
  },
  {
   "cell_type": "markdown",
   "metadata": {},
   "source": [
    "### Exercise 2 - Write a Python class which has two methods get_String and print_String. get_String accept a string from the user and print_String print the string in upper case"
   ]
  },
  {
   "cell_type": "code",
   "execution_count": 4,
   "metadata": {},
   "outputs": [
    {
     "name": "stdout",
     "output_type": "stream",
     "text": [
      "Tell me a secret. potatoes rule\n",
      "POTATOES RULE\n"
     ]
    }
   ],
   "source": [
    "class ChangeString():\n",
    "    def print_string(self):\n",
    "        print(self.str.upper())\n",
    "\n",
    "my_string = ChangeString()\n",
    "\n",
    "def get_string():\n",
    "    my_string.str = input(\"Tell me a secret. \")\n",
    "    my_string.print_string()\n",
    "    \n",
    "get_string()"
   ]
  }
 ],
 "metadata": {
  "kernelspec": {
   "display_name": "Python 3 (ipykernel)",
   "language": "python",
   "name": "python3"
  },
  "language_info": {
   "codemirror_mode": {
    "name": "ipython",
    "version": 3
   },
   "file_extension": ".py",
   "mimetype": "text/x-python",
   "name": "python",
   "nbconvert_exporter": "python",
   "pygments_lexer": "ipython3",
   "version": "3.9.13"
  }
 },
 "nbformat": 4,
 "nbformat_minor": 2
}
